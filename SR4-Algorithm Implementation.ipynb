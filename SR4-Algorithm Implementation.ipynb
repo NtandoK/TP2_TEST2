{
 "cells": [
  {
   "cell_type": "code",
   "execution_count": 1,
   "id": "1b72a9d6-5dfd-4515-8c96-13f5109d0de9",
   "metadata": {},
   "outputs": [],
   "source": [
    "import pandas as pd\n"
   ]
  },
  {
   "cell_type": "code",
   "execution_count": 2,
   "id": "1957c46d-1bba-4d6a-95bc-f3d23427f67f",
   "metadata": {},
   "outputs": [],
   "source": [
    "data=pd.read_csv('settle2.csv')"
   ]
  },
  {
   "cell_type": "code",
   "execution_count": 9,
   "id": "ab7b782f-ddea-44de-a39e-689e32e9f376",
   "metadata": {},
   "outputs": [],
   "source": [
    "def sort(nums):\n",
    "    a=len(nums)\n",
    "    for i in range(a-1):\n",
    "        min= i\n",
    "        for j in range(i+1,a):\n",
    "            if nums[j]<nums[min]:\n",
    "                min=j\n",
    "                nums[i],nums[min]=nums[min],nums[i]\n",
    "\n"
   ]
  },
  {
   "cell_type": "code",
   "execution_count": 10,
   "id": "abe923eb-909d-49d6-bb09-1340e1accfe2",
   "metadata": {},
   "outputs": [
    {
     "name": "stdout",
     "output_type": "stream",
     "text": [
      "[6, 11, 3, 4, 3, 20, 9, 11, 10, 12, 16, 4, 3, 18, 17, 13, 13, 10, 8, 14, 11, 5, 9, 8, 6, 29, 77, 8, 3, 6, 9, 3, 0, 11, 22, 81, 13, 15, 20, 5, 36, 64, 17, 6, 19, 18, 9, 15, 13, 11, 23, 13, 60, 17, 25, 39, 21, 4, 8, 4, 7, 44, 12, 28, 20, 34, 20, 53, 37, 19, 18, 13, 20, 12, 12, 29, 23, 20, 27, 49, 13, 22, 20, 96, 12, 7, 11, 32, 11, 16, 13, 304, 17, 47, 59, 24, 12, 15, 10, 27, 13, 26, 22, 21, 100, 170, 16, 20, 15, 28, 254, 13, 17, 41, 62, 24, 35, 14, 15, 37, 70, 33, 46, 67, 19, 51, 5, 5, 8, 31, 27, 13, 18, 20, 31, 31, 48, 116, 43, 8, 23, 8, 8, 10, 8, 10, 11, 12, 1, 115, 27, 124, 78, 81, 98, 35, 25, 71, 131, 332, 433, 354, 68, 64, 48, 40, 97, 32, 18, 31, 19, 25, 40, 20, 79, 49, 64, 26, 300, 114, 47, 102, 243, 69, 165, 22, 40, 34, 46, 28, 53, 154, 38, 75, 59, 33, 101, 26, 138, 160, 24, 247, 82, 230, 29, 114, 362, 70, 450, 162, 392, 29, 168, 262, 66, 60, 55, 42, 81, 50, 51, 56, 54, 57, 45, 126, 282, 118, 23, 28, 72, 105, 22, 23, 146, 22, 181, 646, 633, 27, 58, 185, 168, 479, 446, 117, 127, 321, 42, 66, 60, 38, 20, 29, 53, 48, 138, 116, 68, 36, 311, 422, 24, 48, 24, 259, 352, 74, 169, 540, 45, 318, 243, 533, 110, 91, 50, 138, 56, 68, 35, 42, 190, 37, 171, 56, 36, 43, 122, 86, 106, 340, 448, 326, 24, 85, 95, 412, 192, 305, 28, 325, 39, 104, 83, 55, 32, 73, 34, 38, 913, 175, 376, 79, 110, 333, 535, 57, 619, 163, 476, 72, 14, 54, 44, 49, 46, 53, 59, 23, 68, 72, 20, 487, 237, 25, 199, 37, 437, 23, 22, 29, 28, 33, 41, 418, 308, 14, 18, 18, 18, 292, 21, 32, 42, 272, 27, 53, 24, 8, 691, 664, 382, 1285, 481, 626, 539, 588, 532, 505, 998, 428, 471, 1215, 800, 816, 590, 866, 850, 748, 1228, 1251, 771, 1006, 426, 637, 948, 667, 427, 451, 443, 1087, 717, 450, 995, 1362, 1997, 1568, 539, 684, 728, 621, 374, 877, 381, 660, 625, 150, 3318, 1631, 2077, 2041, 1912, 1851, 3152, 3684, 1434, 1510, 3020, 3743, 1952, 2171, 1534, 2866, 1576, 1606, 516, 4759, 4412, 663, 6662, 6086, 5952, 7963]\n"
     ]
    }
   ],
   "source": [
    "col=data['structure_count'].tolist()\n",
    "sort(col)\n",
    "print(col)"
   ]
  },
  {
   "cell_type": "markdown",
   "id": "cc2b6a24-f31e-4e75-becf-01f374880927",
   "metadata": {},
   "source": [
    "\n",
    "Binary Search:\n",
    "Performance: Binary search has a time complexity of O(log n), where n is the number of elements in the dataset.\n",
    "Reasons:\n",
    "Binary search requires the dataset to be sorted in ascending or descending order.\n",
    "It efficiently reduces the search space by half in each iteration by comparing the target element with the middle element of the dataset.\n",
    "It works well for large datasets and provides faster search compared to linear search.\n",
    "\n",
    "Advantages:\n",
    "Faster search performance, especially for large sorted datasets.\n",
    "Ideal for situations where the dataset is sorted and frequently searched."
   ]
  },
  {
   "cell_type": "code",
   "execution_count": 11,
   "id": "770a591f-1747-4b80-9f50-0c256cfd874a",
   "metadata": {},
   "outputs": [],
   "source": [
    "def linSearch(element, search):\n",
    "    for i in range(len(element)):\n",
    "        if element[i] == search:\n",
    "            return i\n",
    "    return -1"
   ]
  },
  {
   "cell_type": "code",
   "execution_count": 12,
   "id": "9b551e44-bb9e-4279-8a69-f21fe3070e1d",
   "metadata": {},
   "outputs": [],
   "source": [
    "def binSearch(a, b):\n",
    "    low = 0\n",
    "    high = len(a) - 1\n",
    "    while low <= high:\n",
    "        mid = (low + high) // 2\n",
    "        if a[mid] == b:\n",
    "            return mid\n",
    "        elif a[mid] < b:\n",
    "            low = mid + 1\n",
    "        else:\n",
    "            high = mid - 1\n",
    "    return -1"
   ]
  },
  {
   "cell_type": "code",
   "execution_count": 13,
   "id": "519d1fed-9fff-493d-9ce0-666e6c9b8217",
   "metadata": {},
   "outputs": [
    {
     "name": "stdout",
     "output_type": "stream",
     "text": [
      "338\n"
     ]
    }
   ],
   "source": [
    "linRes=linSearch(col,437)\n",
    "print(linRes)"
   ]
  },
  {
   "cell_type": "code",
   "execution_count": 14,
   "id": "02002499-926d-45b9-9d07-08e781ae0a0d",
   "metadata": {},
   "outputs": [
    {
     "name": "stdout",
     "output_type": "stream",
     "text": [
      "-1\n"
     ]
    }
   ],
   "source": [
    "binRes=binSearch(col,437)\n",
    "print(binRes)"
   ]
  },
  {
   "cell_type": "code",
   "execution_count": null,
   "id": "8316ea08-fbdd-428d-b002-9a1d3663ae0c",
   "metadata": {},
   "outputs": [],
   "source": []
  }
 ],
 "metadata": {
  "kernelspec": {
   "display_name": "Python 3 (ipykernel)",
   "language": "python",
   "name": "python3"
  },
  "language_info": {
   "codemirror_mode": {
    "name": "ipython",
    "version": 3
   },
   "file_extension": ".py",
   "mimetype": "text/x-python",
   "name": "python",
   "nbconvert_exporter": "python",
   "pygments_lexer": "ipython3",
   "version": "3.11.7"
  }
 },
 "nbformat": 4,
 "nbformat_minor": 5
}
